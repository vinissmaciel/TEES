{
 "cells": [
  {
   "cell_type": "code",
   "execution_count": 1,
   "id": "9d41dd24-6d11-41e4-bc5e-8c70ebacd8a7",
   "metadata": {},
   "outputs": [],
   "source": [
    "#variáveis\n",
    "temp = 1"
   ]
  },
  {
   "cell_type": "code",
   "execution_count": 2,
   "id": "2281b88c-0b35-4af1-88e0-138bcd55064a",
   "metadata": {},
   "outputs": [],
   "source": [
    "nome1 = \"Carla\"\n",
    "frase1 = 'O rato roeu a roupa do rei de Roma'"
   ]
  },
  {
   "cell_type": "code",
   "execution_count": 3,
   "id": "263d5c90-ee15-4133-8b88-b987472de16b",
   "metadata": {},
   "outputs": [],
   "source": [
    "letraA = \"a\"\n",
    "letraB = 'b'"
   ]
  },
  {
   "cell_type": "raw",
   "id": "b6a387d0-9498-42bc-b4a5-88e2dea6cacd",
   "metadata": {},
   "source": [
    "Operador Descrição Exemplo\n",
    "+ Concatenação - Cria uma nova String que une o valor de duas o mais Strings. var1+var2 dará ‘AmorÓdio'\n",
    "* Repetição - Cria novas Strings, concatenando múltiplas cópias da mesma String. var1*2 dará ‘AmorAmor'\n",
    "[] Fatiamento - Retorna o caractere de um dado índice. var1[1] dará ‘m'\n",
    "[ : ] Fatiamento em uma faixa - Retorna os caracteres de uma dada faixa de índices. var3[1:4] dará ‘ind'\n",
    "in Adesão - Retorna true se um caracter existe em uma dada String. ‘a' in var1 dará true\n",
    "not in Adesão - Retorna true se um caracter não existe em uma dada String. ‘i' in var1 dará true\n",
    "len Tamanho - Retorna o tamanho da String contando espaços e caracteres especiais. len(var1) dará 4\n",
    "replace Substituição - Substitui uma substring de uma String por outra String. var1.replace(‘am', ‘ia') dará ‘iaor'\n",
    "count Enumeração - Conta quantas vezes uma substring aparece em uma String. var1.count(‘r') dará 1\n",
    "split Divisão - Separa uma String em um ponto dado por outra String. var3.split(‘língua') daria\n",
    "[‘Ainda que eu falasse a ', ‘ dos anjos']\n",
    "upper Maiúsculo - Torna todos os caracteres maiúsculos. var1.upper() dará ‘AMOR'\n",
    "lower Minúsculo - Torna todos os caracteres minúsculos. var1.lower() dará ‘amor"
   ]
  },
  {
   "cell_type": "code",
   "execution_count": 4,
   "id": "97d16586-3d28-4b8d-bf36-80e7def57d59",
   "metadata": {},
   "outputs": [
    {
     "data": {
      "text/plain": [
       "['bibliotecário', 'biblioteca']"
      ]
     },
     "execution_count": 4,
     "metadata": {},
     "output_type": "execute_result"
    }
   ],
   "source": [
    "#expressões regulares\n",
    "import re\n",
    "texto = \"o bibliotecário abriu a biblioteca\"\n",
    "resultado = re.findall(r'biblio\\w*', texto)  #acha todas as palavras que começam com biblio\n",
    "resultado"
   ]
  },
  {
   "cell_type": "code",
   "execution_count": 5,
   "id": "0709de05-a25a-4f22-a2e9-0e26b2766080",
   "metadata": {},
   "outputs": [
    {
     "data": {
      "text/plain": [
       "<re.Match object; span=(4, 10), match='pessoa'>"
      ]
     },
     "execution_count": 5,
     "metadata": {},
     "output_type": "execute_result"
    }
   ],
   "source": [
    "import re\n",
    "texto = \"uma pessoa boa\"\n",
    "resultado = re.search(r'pessoa', texto)  #acha a primeira palavra pessoa\n",
    "resultado"
   ]
  },
  {
   "cell_type": "code",
   "execution_count": 6,
   "id": "513f0283-51e9-4709-a26d-0ff11476b5b9",
   "metadata": {},
   "outputs": [
    {
     "name": "stdout",
     "output_type": "stream",
     "text": [
      "pessoa\n",
      "pessoa\n"
     ]
    }
   ],
   "source": [
    "#continuação do código\n",
    "print(texto[4:10])\n",
    "print(resultado.group(0))"
   ]
  },
  {
   "cell_type": "code",
   "execution_count": 7,
   "id": "2fad93bd-3430-4a7c-b812-81a3344cf42c",
   "metadata": {},
   "outputs": [],
   "source": [
    "#listas\n",
    "texto = ['Casa', ',', 'comida', 'e', 'roupa', 'lavada', '.']"
   ]
  },
  {
   "cell_type": "code",
   "execution_count": 8,
   "id": "127bdc74-c4b4-40ac-afc2-02a2e1041050",
   "metadata": {},
   "outputs": [
    {
     "data": {
      "text/plain": [
       "['Algum', 'tempo', 'hesitei', 'se', 'devia', 'abrir', 'estas', 'memórias.']"
      ]
     },
     "execution_count": 8,
     "metadata": {},
     "output_type": "execute_result"
    }
   ],
   "source": [
    "texto = \"Algum tempo hesitei se devia abrir estas memórias.\"\n",
    "re.split(r'[ \\t\\n]+', texto)  #separa por espaço, tabs e novas linhas"
   ]
  },
  {
   "cell_type": "code",
   "execution_count": 9,
   "id": "71644439-fc11-47b1-a902-1723514f46b4",
   "metadata": {},
   "outputs": [
    {
     "name": "stdout",
     "output_type": "stream",
     "text": [
      "['Algum', 'tempo', 'hesitei', 'se', 'devia', 'abrir', 'estas', 'memórias', '.']\n"
     ]
    }
   ],
   "source": [
    "print(re.findall(r\"\\w+(?:[-']\\w+)*|'|[-.(]+|\\S\\w*\", texto))  #separa o ."
   ]
  },
  {
   "cell_type": "code",
   "execution_count": 10,
   "id": "51e4a7d2-1685-4058-800b-f9e4f62cc63b",
   "metadata": {},
   "outputs": [
    {
     "name": "stdout",
     "output_type": "stream",
     "text": [
      "comida\n",
      "7\n"
     ]
    }
   ],
   "source": [
    "lista = ['Casa', ',', 'comida', 'e', 'roupa', 'lavada', '.']\n",
    "print(lista[2])\n",
    "print(len(lista)) #retorna tamanho da lista"
   ]
  },
  {
   "cell_type": "code",
   "execution_count": 11,
   "id": "37932cc4-f4a0-4c58-8b97-15953f1fb1c5",
   "metadata": {},
   "outputs": [
    {
     "name": "stdout",
     "output_type": "stream",
     "text": [
      "Viva pois a história\n",
      "Viva;pois;a;história\n"
     ]
    }
   ],
   "source": [
    "bras = ['Viva', 'pois', 'a', 'história']\n",
    "print(' '.join(bras))  #join junta os itens da lista em string, separado pela string que chama o método\n",
    "print(';'.join(bras))\n"
   ]
  },
  {
   "cell_type": "code",
   "execution_count": 12,
   "id": "741ffd6e-0a2f-44a5-8cf9-97e41452f203",
   "metadata": {
    "scrolled": true
   },
   "outputs": [
    {
     "name": "stderr",
     "output_type": "stream",
     "text": [
      "[nltk_data] Downloading collection 'popular'\n",
      "[nltk_data]    | \n",
      "[nltk_data]    | Downloading package cmudict to\n",
      "[nltk_data]    |     C:\\Users\\Vinicius\\AppData\\Roaming\\nltk_data...\n",
      "[nltk_data]    |   Package cmudict is already up-to-date!\n",
      "[nltk_data]    | Downloading package gazetteers to\n",
      "[nltk_data]    |     C:\\Users\\Vinicius\\AppData\\Roaming\\nltk_data...\n",
      "[nltk_data]    |   Package gazetteers is already up-to-date!\n",
      "[nltk_data]    | Downloading package genesis to\n",
      "[nltk_data]    |     C:\\Users\\Vinicius\\AppData\\Roaming\\nltk_data...\n",
      "[nltk_data]    |   Package genesis is already up-to-date!\n",
      "[nltk_data]    | Downloading package gutenberg to\n",
      "[nltk_data]    |     C:\\Users\\Vinicius\\AppData\\Roaming\\nltk_data...\n",
      "[nltk_data]    |   Package gutenberg is already up-to-date!\n",
      "[nltk_data]    | Downloading package inaugural to\n",
      "[nltk_data]    |     C:\\Users\\Vinicius\\AppData\\Roaming\\nltk_data...\n",
      "[nltk_data]    |   Package inaugural is already up-to-date!\n",
      "[nltk_data]    | Downloading package movie_reviews to\n",
      "[nltk_data]    |     C:\\Users\\Vinicius\\AppData\\Roaming\\nltk_data...\n",
      "[nltk_data]    |   Package movie_reviews is already up-to-date!\n",
      "[nltk_data]    | Downloading package names to\n",
      "[nltk_data]    |     C:\\Users\\Vinicius\\AppData\\Roaming\\nltk_data...\n",
      "[nltk_data]    |   Package names is already up-to-date!\n",
      "[nltk_data]    | Downloading package shakespeare to\n",
      "[nltk_data]    |     C:\\Users\\Vinicius\\AppData\\Roaming\\nltk_data...\n",
      "[nltk_data]    |   Package shakespeare is already up-to-date!\n",
      "[nltk_data]    | Downloading package stopwords to\n",
      "[nltk_data]    |     C:\\Users\\Vinicius\\AppData\\Roaming\\nltk_data...\n",
      "[nltk_data]    |   Package stopwords is already up-to-date!\n",
      "[nltk_data]    | Downloading package treebank to\n",
      "[nltk_data]    |     C:\\Users\\Vinicius\\AppData\\Roaming\\nltk_data...\n",
      "[nltk_data]    |   Package treebank is already up-to-date!\n",
      "[nltk_data]    | Downloading package twitter_samples to\n",
      "[nltk_data]    |     C:\\Users\\Vinicius\\AppData\\Roaming\\nltk_data...\n",
      "[nltk_data]    |   Package twitter_samples is already up-to-date!\n",
      "[nltk_data]    | Downloading package omw to\n",
      "[nltk_data]    |     C:\\Users\\Vinicius\\AppData\\Roaming\\nltk_data...\n",
      "[nltk_data]    |   Package omw is already up-to-date!\n",
      "[nltk_data]    | Downloading package omw-1.4 to\n",
      "[nltk_data]    |     C:\\Users\\Vinicius\\AppData\\Roaming\\nltk_data...\n",
      "[nltk_data]    |   Package omw-1.4 is already up-to-date!\n",
      "[nltk_data]    | Downloading package wordnet to\n",
      "[nltk_data]    |     C:\\Users\\Vinicius\\AppData\\Roaming\\nltk_data...\n",
      "[nltk_data]    |   Package wordnet is already up-to-date!\n",
      "[nltk_data]    | Downloading package wordnet2021 to\n",
      "[nltk_data]    |     C:\\Users\\Vinicius\\AppData\\Roaming\\nltk_data...\n",
      "[nltk_data]    |   Package wordnet2021 is already up-to-date!\n",
      "[nltk_data]    | Downloading package wordnet31 to\n",
      "[nltk_data]    |     C:\\Users\\Vinicius\\AppData\\Roaming\\nltk_data...\n",
      "[nltk_data]    |   Package wordnet31 is already up-to-date!\n",
      "[nltk_data]    | Downloading package wordnet_ic to\n",
      "[nltk_data]    |     C:\\Users\\Vinicius\\AppData\\Roaming\\nltk_data...\n",
      "[nltk_data]    |   Package wordnet_ic is already up-to-date!\n",
      "[nltk_data]    | Downloading package words to\n",
      "[nltk_data]    |     C:\\Users\\Vinicius\\AppData\\Roaming\\nltk_data...\n",
      "[nltk_data]    |   Package words is already up-to-date!\n",
      "[nltk_data]    | Downloading package maxent_ne_chunker to\n",
      "[nltk_data]    |     C:\\Users\\Vinicius\\AppData\\Roaming\\nltk_data...\n",
      "[nltk_data]    |   Package maxent_ne_chunker is already up-to-date!\n",
      "[nltk_data]    | Downloading package punkt to\n",
      "[nltk_data]    |     C:\\Users\\Vinicius\\AppData\\Roaming\\nltk_data...\n",
      "[nltk_data]    |   Package punkt is already up-to-date!\n",
      "[nltk_data]    | Downloading package snowball_data to\n",
      "[nltk_data]    |     C:\\Users\\Vinicius\\AppData\\Roaming\\nltk_data...\n",
      "[nltk_data]    |   Package snowball_data is already up-to-date!\n",
      "[nltk_data]    | Downloading package averaged_perceptron_tagger to\n",
      "[nltk_data]    |     C:\\Users\\Vinicius\\AppData\\Roaming\\nltk_data...\n",
      "[nltk_data]    |   Package averaged_perceptron_tagger is already up-\n",
      "[nltk_data]    |       to-date!\n",
      "[nltk_data]    | \n",
      "[nltk_data]  Done downloading collection popular\n",
      "[nltk_data] Downloading package machado to\n",
      "[nltk_data]     C:\\Users\\Vinicius\\AppData\\Roaming\\nltk_data...\n",
      "[nltk_data]   Package machado is already up-to-date!\n",
      "[nltk_data] Downloading package punkt_tab to\n",
      "[nltk_data]     C:\\Users\\Vinicius\\AppData\\Roaming\\nltk_data...\n",
      "[nltk_data]   Package punkt_tab is already up-to-date!\n"
     ]
    },
    {
     "data": {
      "text/plain": [
       "True"
      ]
     },
     "execution_count": 12,
     "metadata": {},
     "output_type": "execute_result"
    }
   ],
   "source": [
    "#NLTK\n",
    "import nltk\n",
    "nltk.download('popular')\n",
    "nltk.download('machado')\n",
    "nltk.download('punkt_tab')"
   ]
  },
  {
   "cell_type": "code",
   "execution_count": 13,
   "id": "f7b833b7-d464-4198-b6d1-c9580b8e3411",
   "metadata": {
    "scrolled": true
   },
   "outputs": [
    {
     "data": {
      "text/plain": [
       "['contos/macn001.txt',\n",
       " 'contos/macn002.txt',\n",
       " 'contos/macn003.txt',\n",
       " 'contos/macn004.txt',\n",
       " 'contos/macn005.txt',\n",
       " 'contos/macn006.txt',\n",
       " 'contos/macn007.txt',\n",
       " 'contos/macn008.txt',\n",
       " 'contos/macn009.txt',\n",
       " 'contos/macn010.txt',\n",
       " 'contos/macn011.txt',\n",
       " 'contos/macn012.txt',\n",
       " 'contos/macn013.txt',\n",
       " 'contos/macn014.txt',\n",
       " 'contos/macn015.txt',\n",
       " 'contos/macn016.txt',\n",
       " 'contos/macn017.txt',\n",
       " 'contos/macn018.txt',\n",
       " 'contos/macn019.txt',\n",
       " 'contos/macn020.txt',\n",
       " 'contos/macn021.txt',\n",
       " 'contos/macn022.txt',\n",
       " 'contos/macn023.txt',\n",
       " 'contos/macn024.txt',\n",
       " 'contos/macn025.txt',\n",
       " 'contos/macn026.txt',\n",
       " 'contos/macn027.txt',\n",
       " 'contos/macn028.txt',\n",
       " 'contos/macn029.txt',\n",
       " 'contos/macn030.txt',\n",
       " 'contos/macn031.txt',\n",
       " 'contos/macn032.txt',\n",
       " 'contos/macn033.txt',\n",
       " 'contos/macn034.txt',\n",
       " 'contos/macn035.txt',\n",
       " 'contos/macn036.txt',\n",
       " 'contos/macn037.txt',\n",
       " 'contos/macn038.txt',\n",
       " 'contos/macn039.txt',\n",
       " 'contos/macn040.txt',\n",
       " 'contos/macn041.txt',\n",
       " 'contos/macn042.txt',\n",
       " 'contos/macn043.txt',\n",
       " 'contos/macn044.txt',\n",
       " 'contos/macn045.txt',\n",
       " 'contos/macn046.txt',\n",
       " 'contos/macn047.txt',\n",
       " 'contos/macn048.txt',\n",
       " 'contos/macn049.txt',\n",
       " 'contos/macn050.txt',\n",
       " 'contos/macn051.txt',\n",
       " 'contos/macn052.txt',\n",
       " 'contos/macn053.txt',\n",
       " 'contos/macn054.txt',\n",
       " 'contos/macn055.txt',\n",
       " 'contos/macn056.txt',\n",
       " 'contos/macn057.txt',\n",
       " 'contos/macn058.txt',\n",
       " 'contos/macn059.txt',\n",
       " 'contos/macn060.txt',\n",
       " 'contos/macn061.txt',\n",
       " 'contos/macn062.txt',\n",
       " 'contos/macn063.txt',\n",
       " 'contos/macn064.txt',\n",
       " 'contos/macn065.txt',\n",
       " 'contos/macn066.txt',\n",
       " 'contos/macn067.txt',\n",
       " 'contos/macn068.txt',\n",
       " 'contos/macn069.txt',\n",
       " 'contos/macn070.txt',\n",
       " 'contos/macn071.txt',\n",
       " 'contos/macn072.txt',\n",
       " 'contos/macn073.txt',\n",
       " 'contos/macn074.txt',\n",
       " 'contos/macn075.txt',\n",
       " 'contos/macn076.txt',\n",
       " 'contos/macn077.txt',\n",
       " 'contos/macn078.txt',\n",
       " 'contos/macn079.txt',\n",
       " 'contos/macn080.txt',\n",
       " 'contos/macn081.txt',\n",
       " 'contos/macn082.txt',\n",
       " 'contos/macn083.txt',\n",
       " 'contos/macn084.txt',\n",
       " 'contos/macn085.txt',\n",
       " 'contos/macn086.txt',\n",
       " 'contos/macn087.txt',\n",
       " 'contos/macn088.txt',\n",
       " 'contos/macn089.txt',\n",
       " 'contos/macn090.txt',\n",
       " 'contos/macn091.txt',\n",
       " 'contos/macn092.txt',\n",
       " 'contos/macn093.txt',\n",
       " 'contos/macn094.txt',\n",
       " 'contos/macn095.txt',\n",
       " 'contos/macn096.txt',\n",
       " 'contos/macn097.txt',\n",
       " 'contos/macn098.txt',\n",
       " 'contos/macn099.txt',\n",
       " 'contos/macn100.txt',\n",
       " 'contos/macn101.txt',\n",
       " 'contos/macn102.txt',\n",
       " 'contos/macn103.txt',\n",
       " 'contos/macn104.txt',\n",
       " 'contos/macn105.txt',\n",
       " 'contos/macn106.txt',\n",
       " 'contos/macn107.txt',\n",
       " 'contos/macn108.txt',\n",
       " 'contos/macn109.txt',\n",
       " 'contos/macn110.txt',\n",
       " 'contos/macn111.txt',\n",
       " 'contos/macn112.txt',\n",
       " 'contos/macn113.txt',\n",
       " 'contos/macn114.txt',\n",
       " 'contos/macn115.txt',\n",
       " 'contos/macn116.txt',\n",
       " 'contos/macn117.txt',\n",
       " 'contos/macn118.txt',\n",
       " 'contos/macn119.txt',\n",
       " 'contos/macn120.txt',\n",
       " 'contos/macn121.txt',\n",
       " 'contos/macn122.txt',\n",
       " 'contos/macn123.txt',\n",
       " 'contos/macn124.txt',\n",
       " 'contos/macn125.txt',\n",
       " 'contos/macn126.txt',\n",
       " 'contos/macn127.txt',\n",
       " 'contos/macn128.txt',\n",
       " 'contos/macn129.txt',\n",
       " 'contos/macn130.txt',\n",
       " 'contos/macn131.txt',\n",
       " 'contos/macn132.txt',\n",
       " 'contos/macn133.txt',\n",
       " 'contos/macn134.txt',\n",
       " 'contos/macn135.txt',\n",
       " 'contos/macn136.txt',\n",
       " 'contos/macn137.txt',\n",
       " 'critica/mact01.txt',\n",
       " 'critica/mact02.txt',\n",
       " 'critica/mact03.txt',\n",
       " 'critica/mact04.txt',\n",
       " 'critica/mact05.txt',\n",
       " 'critica/mact06.txt',\n",
       " 'critica/mact07.txt',\n",
       " 'critica/mact08.txt',\n",
       " 'critica/mact09.txt',\n",
       " 'critica/mact10.txt',\n",
       " 'critica/mact11.txt',\n",
       " 'critica/mact12.txt',\n",
       " 'critica/mact13.txt',\n",
       " 'critica/mact14.txt',\n",
       " 'critica/mact15.txt',\n",
       " 'critica/mact16.txt',\n",
       " 'critica/mact17.txt',\n",
       " 'critica/mact18.txt',\n",
       " 'critica/mact19.txt',\n",
       " 'critica/mact20.txt',\n",
       " 'critica/mact21.txt',\n",
       " 'critica/mact22.txt',\n",
       " 'critica/mact23.txt',\n",
       " 'critica/mact24.txt',\n",
       " 'critica/mact25.txt',\n",
       " 'critica/mact26.txt',\n",
       " 'critica/mact27.txt',\n",
       " 'critica/mact28.txt',\n",
       " 'critica/mact29.txt',\n",
       " 'critica/mact30.txt',\n",
       " 'critica/mact31.txt',\n",
       " 'critica/mact32.txt',\n",
       " 'critica/mact33.txt',\n",
       " 'critica/mact34.txt',\n",
       " 'critica/mact35.txt',\n",
       " 'critica/mact36.txt',\n",
       " 'critica/mact37.txt',\n",
       " 'critica/mact38.txt',\n",
       " 'critica/mact39.txt',\n",
       " 'critica/mact40.txt',\n",
       " 'critica/mact41.txt',\n",
       " 'critica/mact42.txt',\n",
       " 'critica/mact43.txt',\n",
       " 'critica/mact44.txt',\n",
       " 'critica/mact45.txt',\n",
       " 'cronica/macr01.txt',\n",
       " 'cronica/macr02.txt',\n",
       " 'cronica/macr03.txt',\n",
       " 'cronica/macr04.txt',\n",
       " 'cronica/macr05.txt',\n",
       " 'cronica/macr06.txt',\n",
       " 'cronica/macr07.txt',\n",
       " 'cronica/macr08.txt',\n",
       " 'cronica/macr09.txt',\n",
       " 'cronica/macr10.txt',\n",
       " 'cronica/macr11.txt',\n",
       " 'cronica/macr12.txt',\n",
       " 'cronica/macr13.txt',\n",
       " 'cronica/macr14.txt',\n",
       " 'cronica/macr15.txt',\n",
       " 'cronica/macr16.txt',\n",
       " 'cronica/macr17.txt',\n",
       " 'cronica/macr18.txt',\n",
       " 'cronica/macr19.txt',\n",
       " 'cronica/macr20.txt',\n",
       " 'cronica/macr21.txt',\n",
       " 'cronica/macr22.txt',\n",
       " 'cronica/macr23.txt',\n",
       " 'cronica/macr24.txt',\n",
       " 'miscelanea/mams01.txt',\n",
       " 'miscelanea/mams02.txt',\n",
       " 'miscelanea/mams03.txt',\n",
       " 'miscelanea/mams04.txt',\n",
       " 'miscelanea/mams05.txt',\n",
       " 'miscelanea/mams06.txt',\n",
       " 'miscelanea/mams07.txt',\n",
       " 'miscelanea/mams08.txt',\n",
       " 'miscelanea/mams09.txt',\n",
       " 'miscelanea/mams10.txt',\n",
       " 'poesia/maps01.txt',\n",
       " 'poesia/maps02.txt',\n",
       " 'poesia/maps03.txt',\n",
       " 'poesia/maps04.txt',\n",
       " 'poesia/maps05.txt',\n",
       " 'poesia/maps06.txt',\n",
       " 'poesia/maps07.txt',\n",
       " 'romance/marm01.txt',\n",
       " 'romance/marm02.txt',\n",
       " 'romance/marm03.txt',\n",
       " 'romance/marm04.txt',\n",
       " 'romance/marm05.txt',\n",
       " 'romance/marm06.txt',\n",
       " 'romance/marm07.txt',\n",
       " 'romance/marm08.txt',\n",
       " 'romance/marm09.txt',\n",
       " 'romance/marm10.txt',\n",
       " 'teatro/matt01.txt',\n",
       " 'teatro/matt02.txt',\n",
       " 'teatro/matt03.txt',\n",
       " 'teatro/matt04.txt',\n",
       " 'teatro/matt05.txt',\n",
       " 'teatro/matt06.txt',\n",
       " 'teatro/matt07.txt',\n",
       " 'teatro/matt08.txt',\n",
       " 'teatro/matt09.txt',\n",
       " 'teatro/matt10.txt',\n",
       " 'traducao/matr01.txt',\n",
       " 'traducao/matr02.txt',\n",
       " 'traducao/matr03.txt']"
      ]
     },
     "execution_count": 13,
     "metadata": {},
     "output_type": "execute_result"
    }
   ],
   "source": [
    "#precisei corrigir oq Washington falou no Teams\n",
    "from nltk.corpus import machado\n",
    "machado.fileids()"
   ]
  },
  {
   "cell_type": "code",
   "execution_count": 14,
   "id": "4cbbaf3b-3c31-4d4e-9f97-a1cc7decb262",
   "metadata": {},
   "outputs": [
    {
     "data": {
      "text/plain": [
       "'essa anônima, ainda que não parenta, padeceu mais do que as parentas.\\nÉ verdade, padeceu mais. Não digo que se carpisse, não digo que se deixasse\\nrolar pelo chão, convulsa. Nem o meu óbito era coisa a'"
      ]
     },
     "execution_count": 14,
     "metadata": {},
     "output_type": "execute_result"
    }
   ],
   "source": [
    "raw_text = machado.raw('romance/marm05.txt') #seleciona memorias postumas de bras cubas\n",
    "raw_text[5600:5800] #retorna dos caracteres 5600 a 5800"
   ]
  },
  {
   "cell_type": "code",
   "execution_count": 15,
   "id": "82b01417-9682-4471-a187-54c7656deed7",
   "metadata": {},
   "outputs": [
    {
     "name": "stdout",
     "output_type": "stream",
     "text": [
      "['Romance', ',', 'Memórias', 'Póstumas', 'de', 'Brás', ...]\n",
      "77098\n"
     ]
    }
   ],
   "source": [
    "texto1 = machado.words('romance/marm05.txt') #retorna o texto como uma lista de tokens\n",
    "print(texto1)\n",
    "print(len(texto1))"
   ]
  },
  {
   "cell_type": "code",
   "execution_count": 18,
   "id": "77e0c0ee-8ab6-44a3-89dc-a0c9ae44115d",
   "metadata": {},
   "outputs": [
    {
     "name": "stdout",
     "output_type": "stream",
     "text": [
      "Displaying 25 of 138 matches:\n",
      "De pé , à cabeceira da cama , com os olhos estúpidos , a boca entreaberta , a t\n",
      "orelhas . Pela minha parte fechei os olhos e deixei - me ir à ventura . Já agor\n",
      "xões de cérebro enfermo . Como ia de olhos fechados , não via o caminho ; lembr\n",
      "gelos eternos . Com efeito , abri os olhos e vi que o meu animal galopava numa \n",
      "me apareceu então , fitando - me uns olhos rutilantes como o sol . Tudo nessa f\n",
      " mim mesmo . Então , encarei - a com olhos súplices , e pedi mais alguns anos .\n",
      "o alto de uma montanha . Inclinei os olhos a uma das vertentes , e contemplei ,\n",
      "ilhão , e , não obstante , porque os olhos do delírio são outros , eu via tudo \n",
      "cifração da eternidade . E fixei os olhos , e continuei a ver as idades , que \n",
      " esperto , concordava meu pai ; e os olhos babavam - se - lhe de orgulho , e el\n",
      "te , e , repetido o mote , cravar os olhos na testa de uma senhora , depois tos\n",
      "avrear de estômagos satisfeitos ; os olhos moles e úmidos , ou vivos e cálidos \n",
      "m estacado de orquestra , e todos os olhos se voltavam para o glosador . Quem f\n",
      " . Eu via isso , porque arrastava os olhos da compota para ele e dele para a co\n",
      " eu segui - os . O Vilaça levava nos olhos umas chispas de vinho e de volúpia .\n",
      "es ... D . Eusébia levou o lenço aos olhos . O glosador vasculhava na memória a\n",
      " estupefação imobilizou a todos ; os olhos espraiavam - se a uma e outra banda \n",
      "a aula , dava um pulo , circulava os olhos chamejantes , dizia - nos os últimos\n",
      ", deixava - se estar quieto , com os olhos espetados no ar . Uma flor , o Quinc\n",
      "u forcejava por trazer a bigode . Os olhos , vivos e resolutos , eram a minha f\n",
      " pensativa , ou levantou para mim os olhos cobiçosos . De todas porém a que me \n",
      "pouco ou nada comi , porque só tinha olhos para a dona da casa . Que gentil que\n",
      "erramava - se - lhe a felicidade dos olhos , e eu sentia - me feliz com vê - la\n",
      " meu amor ! Eu agradeci - lho com os olhos úmidos . No dia seguinte levei - lhe\n",
      "proposta . Marcela ouviu - me com os olhos no ar , sem responder logo ; como in\n"
     ]
    }
   ],
   "source": [
    "from nltk.text import Text\n",
    "bras = Text(machado.words('romance/marm05.txt')) #além de representar o texto como uma sequência de tokens, \n",
    "                                                 #também implementa uma série de métodos muito úteis\n",
    "bras.concordance('olhos') #encontra olhos em diferentes contextos .concordance"
   ]
  },
  {
   "cell_type": "code",
   "execution_count": 19,
   "id": "5829370c-fe18-47ab-b2a0-c77a25d0cb6f",
   "metadata": {},
   "outputs": [
    {
     "name": "stdout",
     "output_type": "stream",
     "text": [
      "já leitor lhe dizer com menos contar deixei cheguei desferirem peito\n",
      "corpo fazer porém ver casamento soltar quebrei titubear sacrifício\n"
     ]
    }
   ],
   "source": [
    "#encontrar palavras com distribuição de texto similar utilizando o método .similar\n",
    "bras.similar('chegar')"
   ]
  },
  {
   "cell_type": "code",
   "execution_count": 20,
   "id": "3bd450ee-419c-44e3-a028-2afbd0d3da76",
   "metadata": {},
   "outputs": [
    {
     "name": "stdout",
     "output_type": "stream",
     "text": [
      "estúpidos; e; fechados; e; rutilantes; súplices; a; do; ,; babavam;\n",
      "na; moles; se; da; umas; .; espraiavam; chamejantes; espetados; ,;\n",
      "cobiçosos; para; ,; úmidos; no; ;; de; de; fitos; a; naquele; do; ,;\n",
      "pretos; as; estúpidos; ao; às; ...; ,; fúlgidos; de; ,; .; de; pretos;\n",
      "tão; de; para; a; chisparam; para; me; da; ,; ,; uma; no; na; para;\n",
      "se; em; .; em; .; de; ,; no; nela; tinham; ;; cintilantes; o; dos; e;\n",
      ",; de; de; dela; vermelhos; .; e; .; o; ,; constantemente; para; ,; ,;\n",
      "para; ,; ao; ,; na; na; baixos; no; mais; no; se; dela; do; no; ,;\n",
      "lampejantes; rasos; todos; ,; e; do; pelos; de; ao; .; lhe; de;\n",
      "enfermos; :; ,; .; e; da; fixos; .; fitos; ,; ,; bonitos; de; ...; .;\n",
      "de; algum; a; ;; fitos; em\n"
     ]
    }
   ],
   "source": [
    "#encontrar palavras em um contexto com ajuda de expressões regulares\n",
    "bras.findall(\"<olhos> (<.*>)\")"
   ]
  },
  {
   "cell_type": "code",
   "execution_count": 21,
   "id": "57da2819-ad93-4b0b-9354-9adb65770211",
   "metadata": {},
   "outputs": [
    {
     "data": {
      "text/plain": [
       "['a',\n",
       " 'à',\n",
       " 'ao',\n",
       " 'aos',\n",
       " 'aquela',\n",
       " 'aquelas',\n",
       " 'aquele',\n",
       " 'aqueles',\n",
       " 'aquilo',\n",
       " 'as']"
      ]
     },
     "execution_count": 21,
     "metadata": {},
     "output_type": "execute_result"
    }
   ],
   "source": [
    "stopwords = nltk.corpus.stopwords.words('portuguese')\n",
    "stopwords[:10]"
   ]
  },
  {
   "cell_type": "code",
   "execution_count": 22,
   "id": "08f46a3f-2bbd-4f57-b8e8-520b0fdbb8fb",
   "metadata": {},
   "outputs": [
    {
     "data": {
      "text/plain": [
       "[('meu', 'coração'),\n",
       " ('coração', 'está'),\n",
       " ('está', 'bem'),\n",
       " ('bem', 'machucado')]"
      ]
     },
     "execution_count": 22,
     "metadata": {},
     "output_type": "execute_result"
    }
   ],
   "source": [
    "from nltk import bigrams\n",
    "list(bigrams(['meu', 'coração', 'está', 'bem', 'machucado']))"
   ]
  },
  {
   "cell_type": "code",
   "execution_count": 23,
   "id": "494096c3-a9f1-464d-be27-484acf368fc9",
   "metadata": {},
   "outputs": [
    {
     "name": "stdout",
     "output_type": "stream",
     "text": [
      "Quincas Borba; Lobo Neves; alguma coisa; Brás Cubas; meu pai; que não;\n",
      "dia seguinte; não sei; Com efeito; que era; Meu pai; alguns instantes;\n",
      "outra vez; outra coisa; por exemplo; que ele; mim mesmo; coisa\n",
      "nenhuma; mesma coisa; não era\n"
     ]
    }
   ],
   "source": [
    "from nltk.corpus import machado\n",
    "from nltk.text import Text\n",
    "bras = Text(machado.words('romance/marm05.txt'))\n",
    "bras.collocations() #encontra bigramas frequentes"
   ]
  },
  {
   "cell_type": "code",
   "execution_count": 26,
   "id": "1ed8bd29-a4f5-4d2f-ae56-347ac194de44",
   "metadata": {},
   "outputs": [
    {
     "name": "stdout",
     "output_type": "stream",
     "text": [
      "copi\n",
      "pais\n"
     ]
    },
    {
     "name": "stderr",
     "output_type": "stream",
     "text": [
      "[nltk_data] Downloading package rslp to\n",
      "[nltk_data]     C:\\Users\\Vinicius\\AppData\\Roaming\\nltk_data...\n",
      "[nltk_data]   Package rslp is already up-to-date!\n"
     ]
    }
   ],
   "source": [
    "nltk.download('rslp') #stem\n",
    "stemmer = nltk.stem.RSLPStemmer()\n",
    "print(stemmer.stem(\"copiar\"))\n",
    "print(stemmer.stem(\"paisagem\"))"
   ]
  },
  {
   "cell_type": "code",
   "execution_count": 27,
   "id": "5e2dfcaa-8199-45af-8bae-c2bffa103e55",
   "metadata": {},
   "outputs": [
    {
     "data": {
      "text/plain": [
       "['Estou',\n",
       " 'bem',\n",
       " ',',\n",
       " 'mas',\n",
       " 'não',\n",
       " 'tenho',\n",
       " 'certeza',\n",
       " 'se',\n",
       " 'viajarei',\n",
       " 'amanhã',\n",
       " 'às',\n",
       " '8:30',\n",
       " '.']"
      ]
     },
     "execution_count": 27,
     "metadata": {},
     "output_type": "execute_result"
    }
   ],
   "source": [
    "#tokenização\n",
    "import nltk\n",
    "sentence = \"\"\"Estou bem, mas não tenho certeza se viajarei amanhã às 8:30.\"\"\"\n",
    "tokens = nltk.word_tokenize(sentence)\n",
    "tokens"
   ]
  },
  {
   "cell_type": "code",
   "execution_count": 31,
   "id": "2c38d786-4b3b-4b6b-b4aa-4560fa78c30d",
   "metadata": {},
   "outputs": [
    {
     "name": "stderr",
     "output_type": "stream",
     "text": [
      "[nltk_data] Downloading package mac_morpho to\n",
      "[nltk_data]     C:\\Users\\Vinicius\\AppData\\Roaming\\nltk_data...\n",
      "[nltk_data]   Unzipping corpora\\mac_morpho.zip.\n"
     ]
    }
   ],
   "source": [
    "nltk.download('mac_morpho')\n",
    "from nltk.corpus import mac_morpho\n",
    "sentencas_etiquetadas = mac_morpho.tagged_sents()"
   ]
  },
  {
   "cell_type": "code",
   "execution_count": 32,
   "id": "2b67986e-48cc-43fc-8e94-35451a84d51a",
   "metadata": {},
   "outputs": [
    {
     "data": {
      "text/plain": [
       "'N'"
      ]
     },
     "execution_count": 32,
     "metadata": {},
     "output_type": "execute_result"
    }
   ],
   "source": [
    "tags = [tag for (word, tag) in mac_morpho.tagged_words()]\n",
    "nltk.FreqDist(tags).max()"
   ]
  },
  {
   "cell_type": "code",
   "execution_count": 34,
   "id": "85358033-71ea-4e78-929b-b4655cff99a3",
   "metadata": {},
   "outputs": [
    {
     "data": {
      "text/plain": [
       "[('Estou', 'N'),\n",
       " ('bem', 'N'),\n",
       " (',', 'N'),\n",
       " ('mas', 'N'),\n",
       " ('não', 'N'),\n",
       " ('tenho', 'N'),\n",
       " ('certeza', 'N'),\n",
       " ('se', 'N'),\n",
       " ('viajarei', 'N'),\n",
       " ('amanhã', 'N'),\n",
       " ('às', 'N'),\n",
       " ('8:30', 'N'),\n",
       " ('.', 'N')]"
      ]
     },
     "execution_count": 34,
     "metadata": {},
     "output_type": "execute_result"
    }
   ],
   "source": [
    "etiqPadrao = nltk.tag.DefaultTagger('N')\n",
    "etiqPadrao.tag(tokens)"
   ]
  },
  {
   "cell_type": "code",
   "execution_count": null,
   "id": "ca662960-c827-4d68-a518-adbda8099291",
   "metadata": {},
   "outputs": [],
   "source": []
  }
 ],
 "metadata": {
  "kernelspec": {
   "display_name": "Python 3 (ipykernel)",
   "language": "python",
   "name": "python3"
  },
  "language_info": {
   "codemirror_mode": {
    "name": "ipython",
    "version": 3
   },
   "file_extension": ".py",
   "mimetype": "text/x-python",
   "name": "python",
   "nbconvert_exporter": "python",
   "pygments_lexer": "ipython3",
   "version": "3.12.5"
  }
 },
 "nbformat": 4,
 "nbformat_minor": 5
}
